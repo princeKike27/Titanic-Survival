{
  "nbformat": 4,
  "nbformat_minor": 0,
  "metadata": {
    "colab": {
      "name": "Titanic_Survival.ipynb",
      "provenance": [],
      "collapsed_sections": [],
      "include_colab_link": true
    },
    "kernelspec": {
      "display_name": "Python 3",
      "language": "python",
      "name": "python3"
    },
    "language_info": {
      "codemirror_mode": {
        "name": "ipython",
        "version": 3
      },
      "file_extension": ".py",
      "mimetype": "text/x-python",
      "name": "python",
      "nbconvert_exporter": "python",
      "pygments_lexer": "ipython3",
      "version": "3.7.6"
    }
  },
  "cells": [
    {
      "cell_type": "markdown",
      "metadata": {
        "id": "view-in-github",
        "colab_type": "text"
      },
      "source": [
        "<a href=\"https://colab.research.google.com/github/princeKike27/Titanic-Survival/blob/main/Titanic_Survival.ipynb\" target=\"_parent\"><img src=\"https://colab.research.google.com/assets/colab-badge.svg\" alt=\"Open In Colab\"/></a>"
      ]
    },
    {
      "cell_type": "markdown",
      "metadata": {
        "id": "r3rtVgKL0i4v"
      },
      "source": [
        "# Titanic Survival\n",
        "\n",
        "For this project I will create a Logistic Regression model that predicts which passengers survived the sinking of the Titanic, based on features like age and class. The RMS Titanic set sail on its maiden voyage in 1912, crossing the Atlantic from Southampton, England to New York City. The ship never completed the voyage, \n",
        "sinking to the bottom of the Atlantic Ocean after hitting an iceberg, bringing down 1,502 of 2,224 passengers onboard."
      ]
    },
    {
      "cell_type": "code",
      "metadata": {
        "id": "did-weisYBvc"
      },
      "source": [
        "# import modules\n",
        "\n",
        "import pandas as pd\n",
        "import numpy as np\n",
        "import matplotlib.pyplot as plt\n",
        "import seaborn as sns"
      ],
      "execution_count": null,
      "outputs": []
    },
    {
      "cell_type": "code",
      "metadata": {
        "colab": {
          "base_uri": "https://localhost:8080/",
          "height": 241
        },
        "id": "JzlI7LP8bZ4T",
        "outputId": "87ab3ed5-4ec4-48c6-dbe6-5ed308fdf239"
      },
      "source": [
        "# load data\n",
        "df = pd.read_csv('https://raw.githubusercontent.com/princeKike27/Titanic-Survival/main/titanic.csv', delimiter=';')\n",
        "df.head()"
      ],
      "execution_count": null,
      "outputs": [
        {
          "output_type": "execute_result",
          "data": {
            "text/html": [
              "<div>\n",
              "<style scoped>\n",
              "    .dataframe tbody tr th:only-of-type {\n",
              "        vertical-align: middle;\n",
              "    }\n",
              "\n",
              "    .dataframe tbody tr th {\n",
              "        vertical-align: top;\n",
              "    }\n",
              "\n",
              "    .dataframe thead th {\n",
              "        text-align: right;\n",
              "    }\n",
              "</style>\n",
              "<table border=\"1\" class=\"dataframe\">\n",
              "  <thead>\n",
              "    <tr style=\"text-align: right;\">\n",
              "      <th></th>\n",
              "      <th>PassengerId</th>\n",
              "      <th>Survived</th>\n",
              "      <th>Pclass</th>\n",
              "      <th>Name</th>\n",
              "      <th>Sex</th>\n",
              "      <th>Age</th>\n",
              "      <th>SibSp</th>\n",
              "      <th>Parch</th>\n",
              "      <th>Ticket</th>\n",
              "      <th>Fare</th>\n",
              "      <th>Cabin</th>\n",
              "      <th>Embarked</th>\n",
              "    </tr>\n",
              "  </thead>\n",
              "  <tbody>\n",
              "    <tr>\n",
              "      <th>0</th>\n",
              "      <td>1</td>\n",
              "      <td>0</td>\n",
              "      <td>3</td>\n",
              "      <td>Braund, Mr. Owen Harris</td>\n",
              "      <td>male</td>\n",
              "      <td>22.0</td>\n",
              "      <td>1</td>\n",
              "      <td>0</td>\n",
              "      <td>A/5 21171</td>\n",
              "      <td>7.25</td>\n",
              "      <td>NaN</td>\n",
              "      <td>S</td>\n",
              "    </tr>\n",
              "    <tr>\n",
              "      <th>1</th>\n",
              "      <td>2</td>\n",
              "      <td>1</td>\n",
              "      <td>1</td>\n",
              "      <td>Cumings, Mrs. John Bradley (Florence Briggs Th...</td>\n",
              "      <td>female</td>\n",
              "      <td>38.0</td>\n",
              "      <td>1</td>\n",
              "      <td>0</td>\n",
              "      <td>PC 17599</td>\n",
              "      <td>712.833</td>\n",
              "      <td>C85</td>\n",
              "      <td>C</td>\n",
              "    </tr>\n",
              "    <tr>\n",
              "      <th>2</th>\n",
              "      <td>3</td>\n",
              "      <td>1</td>\n",
              "      <td>3</td>\n",
              "      <td>Heikkinen, Miss. Laina</td>\n",
              "      <td>female</td>\n",
              "      <td>26.0</td>\n",
              "      <td>0</td>\n",
              "      <td>0</td>\n",
              "      <td>STON/O2. 3101282</td>\n",
              "      <td>7.925</td>\n",
              "      <td>NaN</td>\n",
              "      <td>S</td>\n",
              "    </tr>\n",
              "    <tr>\n",
              "      <th>3</th>\n",
              "      <td>4</td>\n",
              "      <td>1</td>\n",
              "      <td>1</td>\n",
              "      <td>Futrelle, Mrs. Jacques Heath (Lily May Peel)</td>\n",
              "      <td>female</td>\n",
              "      <td>35.0</td>\n",
              "      <td>1</td>\n",
              "      <td>0</td>\n",
              "      <td>113803</td>\n",
              "      <td>53.1</td>\n",
              "      <td>C123</td>\n",
              "      <td>S</td>\n",
              "    </tr>\n",
              "    <tr>\n",
              "      <th>4</th>\n",
              "      <td>5</td>\n",
              "      <td>0</td>\n",
              "      <td>3</td>\n",
              "      <td>Allen, Mr. William Henry</td>\n",
              "      <td>male</td>\n",
              "      <td>35.0</td>\n",
              "      <td>0</td>\n",
              "      <td>0</td>\n",
              "      <td>373450</td>\n",
              "      <td>8.05</td>\n",
              "      <td>NaN</td>\n",
              "      <td>S</td>\n",
              "    </tr>\n",
              "  </tbody>\n",
              "</table>\n",
              "</div>"
            ],
            "text/plain": [
              "   PassengerId  Survived  Pclass  ...     Fare Cabin  Embarked\n",
              "0            1         0       3  ...     7.25   NaN         S\n",
              "1            2         1       1  ...  712.833   C85         C\n",
              "2            3         1       3  ...    7.925   NaN         S\n",
              "3            4         1       1  ...     53.1  C123         S\n",
              "4            5         0       3  ...     8.05   NaN         S\n",
              "\n",
              "[5 rows x 12 columns]"
            ]
          },
          "metadata": {
            "tags": []
          },
          "execution_count": 3
        }
      ]
    },
    {
      "cell_type": "markdown",
      "metadata": {
        "id": "BirxWWcDb7VA"
      },
      "source": [
        "Columns Description\n",
        "\n",
        "- Suvived: 0=No & 1=Yes\n",
        "- Pclass: Ticket Class (1=1st, 2=2nd, 3=3rd)\n",
        "- Sex: sex\n",
        "- Age: age in years\n",
        "- SibSp: # of siblings / spouses aboard the titanic\n",
        "- Parch: # of parents / children aboard the titanic\n",
        "- Ticket: ticket number\n",
        "- Fare: passanger fare\n",
        "- Cabin: cabin number\n",
        "- Embarked: port of embarkation (C=Cherbourg, Q=Queenstown, S=Southhampton"
      ]
    },
    {
      "cell_type": "markdown",
      "metadata": {
        "id": "U-oDkHt7f4Yn"
      },
      "source": [
        "# Data Cleaning, Tidying & Standarization"
      ]
    },
    {
      "cell_type": "code",
      "metadata": {
        "colab": {
          "base_uri": "https://localhost:8080/"
        },
        "id": "Ha5nU6rxeKYL",
        "outputId": "9e3f23fc-2eab-4b7d-8cf9-8f103cbf4609"
      },
      "source": [
        "# check shape of df\n",
        "df.shape"
      ],
      "execution_count": null,
      "outputs": [
        {
          "output_type": "execute_result",
          "data": {
            "text/plain": [
              "(1309, 12)"
            ]
          },
          "metadata": {
            "tags": []
          },
          "execution_count": 4
        }
      ]
    },
    {
      "cell_type": "code",
      "metadata": {
        "colab": {
          "base_uri": "https://localhost:8080/"
        },
        "id": "wD34SLtQc_3g",
        "outputId": "ae183c58-3969-4bec-ab30-58bcb9ac0503"
      },
      "source": [
        "# check column types\n",
        "df.dtypes"
      ],
      "execution_count": null,
      "outputs": [
        {
          "output_type": "execute_result",
          "data": {
            "text/plain": [
              "PassengerId      int64\n",
              "Survived         int64\n",
              "Pclass           int64\n",
              "Name            object\n",
              "Sex             object\n",
              "Age            float64\n",
              "SibSp            int64\n",
              "Parch            int64\n",
              "Ticket          object\n",
              "Fare            object\n",
              "Cabin           object\n",
              "Embarked        object\n",
              "dtype: object"
            ]
          },
          "metadata": {
            "tags": []
          },
          "execution_count": 5
        }
      ]
    },
    {
      "cell_type": "code",
      "metadata": {
        "colab": {
          "base_uri": "https://localhost:8080/",
          "height": 300
        },
        "id": "fGaTDMDheC-j",
        "outputId": "dbf37239-004f-41e5-9238-bc1be5583628"
      },
      "source": [
        "# descriptive statistics of numerical columns\n",
        "df.describe()"
      ],
      "execution_count": null,
      "outputs": [
        {
          "output_type": "execute_result",
          "data": {
            "text/html": [
              "<div>\n",
              "<style scoped>\n",
              "    .dataframe tbody tr th:only-of-type {\n",
              "        vertical-align: middle;\n",
              "    }\n",
              "\n",
              "    .dataframe tbody tr th {\n",
              "        vertical-align: top;\n",
              "    }\n",
              "\n",
              "    .dataframe thead th {\n",
              "        text-align: right;\n",
              "    }\n",
              "</style>\n",
              "<table border=\"1\" class=\"dataframe\">\n",
              "  <thead>\n",
              "    <tr style=\"text-align: right;\">\n",
              "      <th></th>\n",
              "      <th>PassengerId</th>\n",
              "      <th>Survived</th>\n",
              "      <th>Pclass</th>\n",
              "      <th>Age</th>\n",
              "      <th>SibSp</th>\n",
              "      <th>Parch</th>\n",
              "    </tr>\n",
              "  </thead>\n",
              "  <tbody>\n",
              "    <tr>\n",
              "      <th>count</th>\n",
              "      <td>1309.000000</td>\n",
              "      <td>1309.000000</td>\n",
              "      <td>1309.000000</td>\n",
              "      <td>1046.000000</td>\n",
              "      <td>1309.000000</td>\n",
              "      <td>1309.000000</td>\n",
              "    </tr>\n",
              "    <tr>\n",
              "      <th>mean</th>\n",
              "      <td>655.000000</td>\n",
              "      <td>0.377387</td>\n",
              "      <td>2.294882</td>\n",
              "      <td>29.881138</td>\n",
              "      <td>0.498854</td>\n",
              "      <td>0.385027</td>\n",
              "    </tr>\n",
              "    <tr>\n",
              "      <th>std</th>\n",
              "      <td>378.020061</td>\n",
              "      <td>0.484918</td>\n",
              "      <td>0.837836</td>\n",
              "      <td>14.413493</td>\n",
              "      <td>1.041658</td>\n",
              "      <td>0.865560</td>\n",
              "    </tr>\n",
              "    <tr>\n",
              "      <th>min</th>\n",
              "      <td>1.000000</td>\n",
              "      <td>0.000000</td>\n",
              "      <td>1.000000</td>\n",
              "      <td>0.170000</td>\n",
              "      <td>0.000000</td>\n",
              "      <td>0.000000</td>\n",
              "    </tr>\n",
              "    <tr>\n",
              "      <th>25%</th>\n",
              "      <td>328.000000</td>\n",
              "      <td>0.000000</td>\n",
              "      <td>2.000000</td>\n",
              "      <td>21.000000</td>\n",
              "      <td>0.000000</td>\n",
              "      <td>0.000000</td>\n",
              "    </tr>\n",
              "    <tr>\n",
              "      <th>50%</th>\n",
              "      <td>655.000000</td>\n",
              "      <td>0.000000</td>\n",
              "      <td>3.000000</td>\n",
              "      <td>28.000000</td>\n",
              "      <td>0.000000</td>\n",
              "      <td>0.000000</td>\n",
              "    </tr>\n",
              "    <tr>\n",
              "      <th>75%</th>\n",
              "      <td>982.000000</td>\n",
              "      <td>1.000000</td>\n",
              "      <td>3.000000</td>\n",
              "      <td>39.000000</td>\n",
              "      <td>1.000000</td>\n",
              "      <td>0.000000</td>\n",
              "    </tr>\n",
              "    <tr>\n",
              "      <th>max</th>\n",
              "      <td>1309.000000</td>\n",
              "      <td>1.000000</td>\n",
              "      <td>3.000000</td>\n",
              "      <td>80.000000</td>\n",
              "      <td>8.000000</td>\n",
              "      <td>9.000000</td>\n",
              "    </tr>\n",
              "  </tbody>\n",
              "</table>\n",
              "</div>"
            ],
            "text/plain": [
              "       PassengerId     Survived  ...        SibSp        Parch\n",
              "count  1309.000000  1309.000000  ...  1309.000000  1309.000000\n",
              "mean    655.000000     0.377387  ...     0.498854     0.385027\n",
              "std     378.020061     0.484918  ...     1.041658     0.865560\n",
              "min       1.000000     0.000000  ...     0.000000     0.000000\n",
              "25%     328.000000     0.000000  ...     0.000000     0.000000\n",
              "50%     655.000000     0.000000  ...     0.000000     0.000000\n",
              "75%     982.000000     1.000000  ...     1.000000     0.000000\n",
              "max    1309.000000     1.000000  ...     8.000000     9.000000\n",
              "\n",
              "[8 rows x 6 columns]"
            ]
          },
          "metadata": {
            "tags": []
          },
          "execution_count": 6
        }
      ]
    },
    {
      "cell_type": "code",
      "metadata": {
        "colab": {
          "base_uri": "https://localhost:8080/",
          "height": 447
        },
        "id": "ZoRST59DebD8",
        "outputId": "1005ebaf-4422-4d54-ecdd-88592b6c6e10"
      },
      "source": [
        "# check for missing values\n",
        "\n",
        "import missingno as msg\n",
        "\n",
        "msg.matrix(df, figsize=(30, 10))"
      ],
      "execution_count": null,
      "outputs": [
        {
          "output_type": "execute_result",
          "data": {
            "text/plain": [
              "<matplotlib.axes._subplots.AxesSubplot at 0x7f3b46d053d0>"
            ]
          },
          "metadata": {
            "tags": []
          },
          "execution_count": 7
        },
        {
          "output_type": "display_data",
          "data": {
            "image/png": "[encoded data removed]",
            "text/plain": [
              "<Figure size 2160x720 with 2 Axes>"
            ]
          },
          "metadata": {
            "tags": [],
            "needs_background": "light"
          }
        }
      ]
    },
    {
      "cell_type": "code",
      "metadata": {
        "id": "XVd7eKtEfECU"
      },
      "source": [
        "# replace missing values in Age column with Age mean\n",
        "df.Age.fillna(df.Age.mean(), inplace=True) "
      ],
      "execution_count": null,
      "outputs": []
    },
    {
      "cell_type": "code",
      "metadata": {
        "colab": {
          "base_uri": "https://localhost:8080/"
        },
        "id": "WP2i8CI_fQSU",
        "outputId": "e79ca115-2419-4e88-826d-33ab6c2b3e53"
      },
      "source": [
        "# check if Age column has nan values\n",
        "df.Age.isna().sum()"
      ],
      "execution_count": null,
      "outputs": [
        {
          "output_type": "execute_result",
          "data": {
            "text/plain": [
              "0"
            ]
          },
          "metadata": {
            "tags": []
          },
          "execution_count": 9
        }
      ]
    },
    {
      "cell_type": "code",
      "metadata": {
        "colab": {
          "base_uri": "https://localhost:8080/",
          "height": 241
        },
        "id": "0sw9nFHPfvSM",
        "outputId": "ab69c260-a105-4868-b2fa-5bdfe51417a4"
      },
      "source": [
        "# Bining Sex column >> male = 0, female = 1\n",
        "\n",
        "for index in df.index:\n",
        "  if df.loc[index, 'Sex'] == 'male':\n",
        "    df.loc[index, 'Sex'] = 0\n",
        "  elif df.loc[index, 'Sex'] == 'female':\n",
        "    df.loc[index, 'Sex'] = 1\n",
        "\n",
        "# check changes\n",
        "df.head()"
      ],
      "execution_count": null,
      "outputs": [
        {
          "output_type": "execute_result",
          "data": {
            "text/html": [
              "<div>\n",
              "<style scoped>\n",
              "    .dataframe tbody tr th:only-of-type {\n",
              "        vertical-align: middle;\n",
              "    }\n",
              "\n",
              "    .dataframe tbody tr th {\n",
              "        vertical-align: top;\n",
              "    }\n",
              "\n",
              "    .dataframe thead th {\n",
              "        text-align: right;\n",
              "    }\n",
              "</style>\n",
              "<table border=\"1\" class=\"dataframe\">\n",
              "  <thead>\n",
              "    <tr style=\"text-align: right;\">\n",
              "      <th></th>\n",
              "      <th>PassengerId</th>\n",
              "      <th>Survived</th>\n",
              "      <th>Pclass</th>\n",
              "      <th>Name</th>\n",
              "      <th>Sex</th>\n",
              "      <th>Age</th>\n",
              "      <th>SibSp</th>\n",
              "      <th>Parch</th>\n",
              "      <th>Ticket</th>\n",
              "      <th>Fare</th>\n",
              "      <th>Cabin</th>\n",
              "      <th>Embarked</th>\n",
              "    </tr>\n",
              "  </thead>\n",
              "  <tbody>\n",
              "    <tr>\n",
              "      <th>0</th>\n",
              "      <td>1</td>\n",
              "      <td>0</td>\n",
              "      <td>3</td>\n",
              "      <td>Braund, Mr. Owen Harris</td>\n",
              "      <td>0</td>\n",
              "      <td>22.0</td>\n",
              "      <td>1</td>\n",
              "      <td>0</td>\n",
              "      <td>A/5 21171</td>\n",
              "      <td>7.25</td>\n",
              "      <td>NaN</td>\n",
              "      <td>S</td>\n",
              "    </tr>\n",
              "    <tr>\n",
              "      <th>1</th>\n",
              "      <td>2</td>\n",
              "      <td>1</td>\n",
              "      <td>1</td>\n",
              "      <td>Cumings, Mrs. John Bradley (Florence Briggs Th...</td>\n",
              "      <td>1</td>\n",
              "      <td>38.0</td>\n",
              "      <td>1</td>\n",
              "      <td>0</td>\n",
              "      <td>PC 17599</td>\n",
              "      <td>712.833</td>\n",
              "      <td>C85</td>\n",
              "      <td>C</td>\n",
              "    </tr>\n",
              "    <tr>\n",
              "      <th>2</th>\n",
              "      <td>3</td>\n",
              "      <td>1</td>\n",
              "      <td>3</td>\n",
              "      <td>Heikkinen, Miss. Laina</td>\n",
              "      <td>1</td>\n",
              "      <td>26.0</td>\n",
              "      <td>0</td>\n",
              "      <td>0</td>\n",
              "      <td>STON/O2. 3101282</td>\n",
              "      <td>7.925</td>\n",
              "      <td>NaN</td>\n",
              "      <td>S</td>\n",
              "    </tr>\n",
              "    <tr>\n",
              "      <th>3</th>\n",
              "      <td>4</td>\n",
              "      <td>1</td>\n",
              "      <td>1</td>\n",
              "      <td>Futrelle, Mrs. Jacques Heath (Lily May Peel)</td>\n",
              "      <td>1</td>\n",
              "      <td>35.0</td>\n",
              "      <td>1</td>\n",
              "      <td>0</td>\n",
              "      <td>113803</td>\n",
              "      <td>53.1</td>\n",
              "      <td>C123</td>\n",
              "      <td>S</td>\n",
              "    </tr>\n",
              "    <tr>\n",
              "      <th>4</th>\n",
              "      <td>5</td>\n",
              "      <td>0</td>\n",
              "      <td>3</td>\n",
              "      <td>Allen, Mr. William Henry</td>\n",
              "      <td>0</td>\n",
              "      <td>35.0</td>\n",
              "      <td>0</td>\n",
              "      <td>0</td>\n",
              "      <td>373450</td>\n",
              "      <td>8.05</td>\n",
              "      <td>NaN</td>\n",
              "      <td>S</td>\n",
              "    </tr>\n",
              "  </tbody>\n",
              "</table>\n",
              "</div>"
            ],
            "text/plain": [
              "   PassengerId  Survived  Pclass  ...     Fare Cabin  Embarked\n",
              "0            1         0       3  ...     7.25   NaN         S\n",
              "1            2         1       1  ...  712.833   C85         C\n",
              "2            3         1       3  ...    7.925   NaN         S\n",
              "3            4         1       1  ...     53.1  C123         S\n",
              "4            5         0       3  ...     8.05   NaN         S\n",
              "\n",
              "[5 rows x 12 columns]"
            ]
          },
          "metadata": {
            "tags": []
          },
          "execution_count": 10
        }
      ]
    },
    {
      "cell_type": "code",
      "metadata": {
        "colab": {
          "base_uri": "https://localhost:8080/",
          "height": 258
        },
        "id": "FWz8nCIQipQj",
        "outputId": "492b899a-c74c-41eb-a78a-34edb0a7e4c5"
      },
      "source": [
        "# Create new column 'FirstClass' >> 1=Yes, 0=No\n",
        "\n",
        "df['FirstClass'] = [1 if df.loc[index, 'Pclass'] == 1 else 0 for index in df.index]\n",
        "\n",
        "df.head()"
      ],
      "execution_count": null,
      "outputs": [
        {
          "output_type": "execute_result",
          "data": {
            "text/html": [
              "<div>\n",
              "<style scoped>\n",
              "    .dataframe tbody tr th:only-of-type {\n",
              "        vertical-align: middle;\n",
              "    }\n",
              "\n",
              "    .dataframe tbody tr th {\n",
              "        vertical-align: top;\n",
              "    }\n",
              "\n",
              "    .dataframe thead th {\n",
              "        text-align: right;\n",
              "    }\n",
              "</style>\n",
              "<table border=\"1\" class=\"dataframe\">\n",
              "  <thead>\n",
              "    <tr style=\"text-align: right;\">\n",
              "      <th></th>\n",
              "      <th>PassengerId</th>\n",
              "      <th>Survived</th>\n",
              "      <th>Pclass</th>\n",
              "      <th>Name</th>\n",
              "      <th>Sex</th>\n",
              "      <th>Age</th>\n",
              "      <th>SibSp</th>\n",
              "      <th>Parch</th>\n",
              "      <th>Ticket</th>\n",
              "      <th>Fare</th>\n",
              "      <th>Cabin</th>\n",
              "      <th>Embarked</th>\n",
              "      <th>FirstClass</th>\n",
              "    </tr>\n",
              "  </thead>\n",
              "  <tbody>\n",
              "    <tr>\n",
              "      <th>0</th>\n",
              "      <td>1</td>\n",
              "      <td>0</td>\n",
              "      <td>3</td>\n",
              "      <td>Braund, Mr. Owen Harris</td>\n",
              "      <td>0</td>\n",
              "      <td>22.0</td>\n",
              "      <td>1</td>\n",
              "      <td>0</td>\n",
              "      <td>A/5 21171</td>\n",
              "      <td>7.25</td>\n",
              "      <td>NaN</td>\n",
              "      <td>S</td>\n",
              "      <td>0</td>\n",
              "    </tr>\n",
              "    <tr>\n",
              "      <th>1</th>\n",
              "      <td>2</td>\n",
              "      <td>1</td>\n",
              "      <td>1</td>\n",
              "      <td>Cumings, Mrs. John Bradley (Florence Briggs Th...</td>\n",
              "      <td>1</td>\n",
              "      <td>38.0</td>\n",
              "      <td>1</td>\n",
              "      <td>0</td>\n",
              "      <td>PC 17599</td>\n",
              "      <td>712.833</td>\n",
              "      <td>C85</td>\n",
              "      <td>C</td>\n",
              "      <td>1</td>\n",
              "    </tr>\n",
              "    <tr>\n",
              "      <th>2</th>\n",
              "      <td>3</td>\n",
              "      <td>1</td>\n",
              "      <td>3</td>\n",
              "      <td>Heikkinen, Miss. Laina</td>\n",
              "      <td>1</td>\n",
              "      <td>26.0</td>\n",
              "      <td>0</td>\n",
              "      <td>0</td>\n",
              "      <td>STON/O2. 3101282</td>\n",
              "      <td>7.925</td>\n",
              "      <td>NaN</td>\n",
              "      <td>S</td>\n",
              "      <td>0</td>\n",
              "    </tr>\n",
              "    <tr>\n",
              "      <th>3</th>\n",
              "      <td>4</td>\n",
              "      <td>1</td>\n",
              "      <td>1</td>\n",
              "      <td>Futrelle, Mrs. Jacques Heath (Lily May Peel)</td>\n",
              "      <td>1</td>\n",
              "      <td>35.0</td>\n",
              "      <td>1</td>\n",
              "      <td>0</td>\n",
              "      <td>113803</td>\n",
              "      <td>53.1</td>\n",
              "      <td>C123</td>\n",
              "      <td>S</td>\n",
              "      <td>1</td>\n",
              "    </tr>\n",
              "    <tr>\n",
              "      <th>4</th>\n",
              "      <td>5</td>\n",
              "      <td>0</td>\n",
              "      <td>3</td>\n",
              "      <td>Allen, Mr. William Henry</td>\n",
              "      <td>0</td>\n",
              "      <td>35.0</td>\n",
              "      <td>0</td>\n",
              "      <td>0</td>\n",
              "      <td>373450</td>\n",
              "      <td>8.05</td>\n",
              "      <td>NaN</td>\n",
              "      <td>S</td>\n",
              "      <td>0</td>\n",
              "    </tr>\n",
              "  </tbody>\n",
              "</table>\n",
              "</div>"
            ],
            "text/plain": [
              "   PassengerId  Survived  Pclass  ... Cabin Embarked  FirstClass\n",
              "0            1         0       3  ...   NaN        S           0\n",
              "1            2         1       1  ...   C85        C           1\n",
              "2            3         1       3  ...   NaN        S           0\n",
              "3            4         1       1  ...  C123        S           1\n",
              "4            5         0       3  ...   NaN        S           0\n",
              "\n",
              "[5 rows x 13 columns]"
            ]
          },
          "metadata": {
            "tags": []
          },
          "execution_count": 11
        }
      ]
    },
    {
      "cell_type": "code",
      "metadata": {
        "id": "MtIJW6Gnjhdk"
      },
      "source": [
        "# Create new column 'SecondClass' >> 1=Yes, 0=No\n",
        "\n",
        "df['SecondClass'] = [1 if df.loc[index, 'Pclass'] == 2 else 0 for index in df.index]"
      ],
      "execution_count": null,
      "outputs": []
    },
    {
      "cell_type": "markdown",
      "metadata": {
        "id": "gRo3tcNtlesE"
      },
      "source": [
        "# Features & Labels for Model"
      ]
    },
    {
      "cell_type": "code",
      "metadata": {
        "colab": {
          "base_uri": "https://localhost:8080/",
          "height": 206
        },
        "id": "2mpxRORVllAq",
        "outputId": "92cd1cb9-bb75-4890-b489-a8bab4432855"
      },
      "source": [
        "# features >> Sex, Age, FirstClass, SecondClass\n",
        "features = df[['Sex', 'Age', 'FirstClass', 'SecondClass']]\n",
        "\n",
        "features.head()"
      ],
      "execution_count": null,
      "outputs": [
        {
          "output_type": "execute_result",
          "data": {
            "text/html": [
              "<div>\n",
              "<style scoped>\n",
              "    .dataframe tbody tr th:only-of-type {\n",
              "        vertical-align: middle;\n",
              "    }\n",
              "\n",
              "    .dataframe tbody tr th {\n",
              "        vertical-align: top;\n",
              "    }\n",
              "\n",
              "    .dataframe thead th {\n",
              "        text-align: right;\n",
              "    }\n",
              "</style>\n",
              "<table border=\"1\" class=\"dataframe\">\n",
              "  <thead>\n",
              "    <tr style=\"text-align: right;\">\n",
              "      <th></th>\n",
              "      <th>Sex</th>\n",
              "      <th>Age</th>\n",
              "      <th>FirstClass</th>\n",
              "      <th>SecondClass</th>\n",
              "    </tr>\n",
              "  </thead>\n",
              "  <tbody>\n",
              "    <tr>\n",
              "      <th>0</th>\n",
              "      <td>0</td>\n",
              "      <td>22.0</td>\n",
              "      <td>0</td>\n",
              "      <td>0</td>\n",
              "    </tr>\n",
              "    <tr>\n",
              "      <th>1</th>\n",
              "      <td>1</td>\n",
              "      <td>38.0</td>\n",
              "      <td>1</td>\n",
              "      <td>0</td>\n",
              "    </tr>\n",
              "    <tr>\n",
              "      <th>2</th>\n",
              "      <td>1</td>\n",
              "      <td>26.0</td>\n",
              "      <td>0</td>\n",
              "      <td>0</td>\n",
              "    </tr>\n",
              "    <tr>\n",
              "      <th>3</th>\n",
              "      <td>1</td>\n",
              "      <td>35.0</td>\n",
              "      <td>1</td>\n",
              "      <td>0</td>\n",
              "    </tr>\n",
              "    <tr>\n",
              "      <th>4</th>\n",
              "      <td>0</td>\n",
              "      <td>35.0</td>\n",
              "      <td>0</td>\n",
              "      <td>0</td>\n",
              "    </tr>\n",
              "  </tbody>\n",
              "</table>\n",
              "</div>"
            ],
            "text/plain": [
              "  Sex   Age  FirstClass  SecondClass\n",
              "0   0  22.0           0            0\n",
              "1   1  38.0           1            0\n",
              "2   1  26.0           0            0\n",
              "3   1  35.0           1            0\n",
              "4   0  35.0           0            0"
            ]
          },
          "metadata": {
            "tags": []
          },
          "execution_count": 13
        }
      ]
    },
    {
      "cell_type": "code",
      "metadata": {
        "colab": {
          "base_uri": "https://localhost:8080/",
          "height": 206
        },
        "id": "dyuWNclSB2D6",
        "outputId": "350095e4-6f81-421c-bf05-09d6e7cbb2be"
      },
      "source": [
        "# labels >> Survived\n",
        "labels = df[['Survived']]\n",
        "\n",
        "labels.head()"
      ],
      "execution_count": null,
      "outputs": [
        {
          "output_type": "execute_result",
          "data": {
            "text/html": [
              "<div>\n",
              "<style scoped>\n",
              "    .dataframe tbody tr th:only-of-type {\n",
              "        vertical-align: middle;\n",
              "    }\n",
              "\n",
              "    .dataframe tbody tr th {\n",
              "        vertical-align: top;\n",
              "    }\n",
              "\n",
              "    .dataframe thead th {\n",
              "        text-align: right;\n",
              "    }\n",
              "</style>\n",
              "<table border=\"1\" class=\"dataframe\">\n",
              "  <thead>\n",
              "    <tr style=\"text-align: right;\">\n",
              "      <th></th>\n",
              "      <th>Survived</th>\n",
              "    </tr>\n",
              "  </thead>\n",
              "  <tbody>\n",
              "    <tr>\n",
              "      <th>0</th>\n",
              "      <td>0</td>\n",
              "    </tr>\n",
              "    <tr>\n",
              "      <th>1</th>\n",
              "      <td>1</td>\n",
              "    </tr>\n",
              "    <tr>\n",
              "      <th>2</th>\n",
              "      <td>1</td>\n",
              "    </tr>\n",
              "    <tr>\n",
              "      <th>3</th>\n",
              "      <td>1</td>\n",
              "    </tr>\n",
              "    <tr>\n",
              "      <th>4</th>\n",
              "      <td>0</td>\n",
              "    </tr>\n",
              "  </tbody>\n",
              "</table>\n",
              "</div>"
            ],
            "text/plain": [
              "   Survived\n",
              "0         0\n",
              "1         1\n",
              "2         1\n",
              "3         1\n",
              "4         0"
            ]
          },
          "metadata": {
            "tags": []
          },
          "execution_count": 15
        }
      ]
    },
    {
      "cell_type": "code",
      "metadata": {
        "id": "q6CA2GEyDOWx"
      },
      "source": [
        "# separate data into train and test\n",
        "\n",
        "from sklearn.model_selection import train_test_split\n",
        "\n",
        "features_train, features_test, labels_train, labels_test = train_test_split(features, labels, test_size=0.2, random_state=100)\n"
      ],
      "execution_count": null,
      "outputs": []
    },
    {
      "cell_type": "code",
      "metadata": {
        "id": "2yLVhLOgC4UZ"
      },
      "source": [
        "# Normalize features and labels for Logistic Regression Model\n",
        "\n",
        "from sklearn.preprocessing import StandardScaler\n",
        "\n",
        "# initialize scaler \n",
        "scaler = StandardScaler()\n",
        "\n",
        "# features trained in the model\n",
        "features_train = scaler.fit_transform(features_train)\n",
        "\n",
        "# features used in test\n",
        "features_test = scaler.transform(features_test)\n"
      ],
      "execution_count": null,
      "outputs": []
    },
    {
      "cell_type": "markdown",
      "metadata": {
        "id": "-_Bd_oy8CJRp"
      },
      "source": [
        "# Logistic Regression Model\n",
        "- Calculate Log Odds >> the probability of a sample belonging to the positive class (passenger survived)\n",
        "    - odds = P(event occurring) / P(event not occuring)\n",
        "    - Z = bo + b1x1 + ... + bnXn\n",
        "\n",
        "- Pass Log Odds to Sigmoid Function >> map Log Odds Z to the range [0, 1]\n",
        "  - h(Z) = 1 / (1 + exp ** -Z)"
      ]
    },
    {
      "cell_type": "code",
      "metadata": {
        "id": "S_9pGc7NCQ96"
      },
      "source": [
        "# import module\n",
        "from sklearn.linear_model import LogisticRegression\n",
        "\n",
        "# create model\n",
        "model = LogisticRegression()"
      ],
      "execution_count": null,
      "outputs": []
    },
    {
      "cell_type": "code",
      "metadata": {
        "colab": {
          "base_uri": "https://localhost:8080/"
        },
        "id": "0mAH3-iGFhhi",
        "outputId": "d345d35b-2fe4-4b01-d30d-821612e81edc"
      },
      "source": [
        "# train data\n",
        "model.fit(features_train, labels_train)"
      ],
      "execution_count": null,
      "outputs": [
        {
          "output_type": "stream",
          "text": [
            "/usr/local/lib/python3.7/dist-packages/sklearn/utils/validation.py:760: DataConversionWarning: A column-vector y was passed when a 1d array was expected. Please change the shape of y to (n_samples, ), for example using ravel().\n",
            "  y = column_or_1d(y, warn=True)\n"
          ],
          "name": "stderr"
        },
        {
          "output_type": "execute_result",
          "data": {
            "text/plain": [
              "LogisticRegression(C=1.0, class_weight=None, dual=False, fit_intercept=True,\n",
              "                   intercept_scaling=1, l1_ratio=None, max_iter=100,\n",
              "                   multi_class='auto', n_jobs=None, penalty='l2',\n",
              "                   random_state=None, solver='lbfgs', tol=0.0001, verbose=0,\n",
              "                   warm_start=False)"
            ]
          },
          "metadata": {
            "tags": []
          },
          "execution_count": 26
        }
      ]
    },
    {
      "cell_type": "code",
      "metadata": {
        "colab": {
          "base_uri": "https://localhost:8080/"
        },
        "id": "PrRrtZs1HPcH",
        "outputId": "89ad0fad-9de8-4dbc-dd31-fe1feffedcdf"
      },
      "source": [
        "# get coefficients and intercept\n",
        "\n",
        "coefficients = model.coef_\n",
        "intercept = model.intercept_\n",
        "\n",
        "print(f'Intercept: {intercept}')\n",
        "print(f'Coefficients: {coefficients[0]}')"
      ],
      "execution_count": null,
      "outputs": [
        {
          "output_type": "stream",
          "text": [
            "Intercept: [-0.70922423]\n",
            "Coefficients: [ 1.67214028 -0.30954568  0.81601974  0.39331614]\n"
          ],
          "name": "stdout"
        }
      ]
    },
    {
      "cell_type": "code",
      "metadata": {
        "colab": {
          "base_uri": "https://localhost:8080/"
        },
        "id": "V0plLn6bHkzO",
        "outputId": "278d3065-551a-440c-b353-5f4d7e15ed54"
      },
      "source": [
        "# zip coefficients to their features name\n",
        "\n",
        "list(zip(['Sex', 'Age', 'FirstClass', 'SecondClass'], coefficients[0]))"
      ],
      "execution_count": null,
      "outputs": [
        {
          "output_type": "execute_result",
          "data": {
            "text/plain": [
              "[('Sex', 1.672140277547372),\n",
              " ('Age', -0.30954567615217715),\n",
              " ('FirstClass', 0.8160197428009051),\n",
              " ('SecondClass', 0.3933161366876667)]"
            ]
          },
          "metadata": {
            "tags": []
          },
          "execution_count": 31
        }
      ]
    },
    {
      "cell_type": "markdown",
      "metadata": {
        "id": "IXL6o8WSV55V"
      },
      "source": [
        "The Sex of a passenger, with a coefficient of 1.67, and the type of ticket being FirstClass, with a coefficient of 0.81, have the biggest infuence in classifying a passenger as survived (positive class)"
      ]
    },
    {
      "cell_type": "code",
      "metadata": {
        "colab": {
          "base_uri": "https://localhost:8080/"
        },
        "id": "fD-hTeCNJbq3",
        "outputId": "b5deb4b2-a2b1-44b1-ea50-379e72386a96"
      },
      "source": [
        "# predict features_test survival\n",
        "# threshold = 0.5 >> makes the decision on what class the sample belongs to\n",
        "prediction = model.predict(features_test)\n",
        "prediction"
      ],
      "execution_count": null,
      "outputs": [
        {
          "output_type": "execute_result",
          "data": {
            "text/plain": [
              "array([0, 0, 0, 0, 0, 1, 0, 0, 0, 1, 0, 0, 1, 0, 0, 1, 0, 0, 0, 1, 1, 0,\n",
              "       0, 1, 1, 0, 0, 0, 0, 0, 0, 0, 0, 1, 0, 1, 0, 0, 0, 0, 0, 0, 1, 1,\n",
              "       1, 0, 1, 0, 1, 0, 1, 0, 0, 1, 0, 0, 1, 0, 0, 1, 0, 1, 0, 0, 1, 0,\n",
              "       0, 0, 1, 1, 0, 0, 0, 0, 0, 0, 1, 0, 1, 1, 0, 1, 0, 0, 0, 0, 1, 0,\n",
              "       1, 0, 1, 1, 0, 0, 1, 1, 0, 1, 1, 0, 0, 0, 0, 1, 0, 1, 1, 0, 1, 1,\n",
              "       1, 1, 0, 0, 0, 1, 0, 0, 0, 0, 0, 0, 0, 0, 0, 1, 0, 1, 1, 0, 1, 1,\n",
              "       0, 0, 0, 1, 0, 1, 0, 1, 0, 0, 0, 0, 0, 0, 0, 0, 0, 0, 0, 1, 0, 0,\n",
              "       0, 0, 0, 0, 1, 0, 0, 0, 0, 0, 0, 0, 1, 1, 0, 0, 1, 0, 0, 0, 0, 0,\n",
              "       0, 1, 0, 0, 1, 1, 0, 1, 0, 0, 1, 0, 0, 1, 1, 0, 1, 0, 0, 0, 0, 1,\n",
              "       0, 1, 1, 1, 0, 0, 1, 1, 0, 0, 0, 0, 0, 0, 0, 0, 1, 0, 0, 0, 0, 1,\n",
              "       0, 0, 0, 0, 1, 1, 1, 0, 0, 0, 1, 0, 0, 0, 1, 1, 0, 0, 0, 0, 0, 1,\n",
              "       0, 0, 1, 0, 0, 0, 0, 1, 1, 0, 1, 0, 0, 0, 0, 1, 0, 0, 1, 1])"
            ]
          },
          "metadata": {
            "tags": []
          },
          "execution_count": 44
        }
      ]
    },
    {
      "cell_type": "code",
      "metadata": {
        "colab": {
          "base_uri": "https://localhost:8080/"
        },
        "id": "Uhiwxp8iJ0h3",
        "outputId": "53231dd7-4e7a-4eec-c0f6-972de700e3cf"
      },
      "source": [
        "# test labels\n",
        "survival = np.array(labels_test)\n",
        "survival.reshape(262, )"
      ],
      "execution_count": null,
      "outputs": [
        {
          "output_type": "execute_result",
          "data": {
            "text/plain": [
              "array([0, 0, 0, 0, 0, 0, 0, 0, 0, 1, 0, 0, 1, 0, 0, 1, 0, 0, 0, 0, 1, 0,\n",
              "       0, 1, 1, 0, 0, 0, 0, 0, 0, 1, 0, 1, 0, 1, 0, 0, 1, 0, 0, 0, 1, 1,\n",
              "       1, 0, 1, 0, 1, 0, 1, 0, 0, 1, 1, 0, 1, 1, 0, 1, 0, 0, 0, 0, 1, 1,\n",
              "       0, 0, 0, 1, 0, 0, 0, 0, 0, 0, 1, 1, 1, 1, 0, 1, 0, 0, 0, 0, 1, 0,\n",
              "       1, 0, 1, 1, 1, 0, 1, 1, 0, 0, 1, 0, 0, 0, 0, 1, 0, 1, 1, 0, 1, 1,\n",
              "       1, 1, 1, 0, 0, 1, 1, 0, 0, 0, 0, 0, 0, 0, 1, 1, 0, 0, 1, 0, 0, 0,\n",
              "       0, 0, 1, 1, 0, 1, 0, 1, 0, 0, 0, 0, 1, 0, 0, 0, 1, 0, 0, 1, 0, 0,\n",
              "       0, 0, 0, 0, 1, 0, 0, 0, 1, 0, 0, 0, 1, 1, 0, 0, 1, 0, 0, 1, 0, 0,\n",
              "       0, 1, 0, 0, 1, 1, 0, 0, 1, 0, 1, 0, 0, 1, 1, 0, 1, 0, 0, 0, 0, 1,\n",
              "       0, 1, 1, 1, 0, 0, 1, 1, 0, 0, 0, 0, 1, 0, 1, 0, 1, 0, 0, 0, 0, 1,\n",
              "       0, 0, 0, 1, 0, 1, 1, 0, 0, 0, 1, 0, 0, 0, 1, 1, 0, 0, 0, 0, 0, 1,\n",
              "       0, 0, 0, 0, 0, 0, 0, 1, 1, 0, 1, 0, 1, 0, 0, 1, 0, 1, 0, 1])"
            ]
          },
          "metadata": {
            "tags": []
          },
          "execution_count": 45
        }
      ]
    },
    {
      "cell_type": "code",
      "metadata": {
        "colab": {
          "base_uri": "https://localhost:8080/"
        },
        "id": "C4CPwcQaGFaO",
        "outputId": "21bc2a12-63a2-4f88-e721-72e3d9b48d04"
      },
      "source": [
        "# model accuracy on training data\n",
        "train_score = model.score(features_train, labels_train)\n",
        "print(f'Train Score: {train_score}')\n",
        "\n",
        "# model accuracy on test data\n",
        "test_score = model.score(features_test, labels_test)\n",
        "print(f'Test Score: {test_score}')"
      ],
      "execution_count": null,
      "outputs": [
        {
          "output_type": "stream",
          "text": [
            "Train Score: 0.8500477554918816\n",
            "Test Score: 0.8740458015267175\n"
          ],
          "name": "stdout"
        }
      ]
    },
    {
      "cell_type": "markdown",
      "metadata": {
        "id": "CIIvkXGBXWge"
      },
      "source": [
        "The model has an Accuracy of 0.874 on the test data. This means that on average 87.4% of the times the model will correctly classify a new passenger as surviving or perishing in the Titanic "
      ]
    },
    {
      "cell_type": "code",
      "metadata": {
        "colab": {
          "base_uri": "https://localhost:8080/"
        },
        "id": "_yTZ9J87LG4m",
        "outputId": "3ad145be-f1c5-421f-dc1f-db6d3a2026a6"
      },
      "source": [
        "# vector of probabilities\n",
        "probabilities = model.predict_proba(features_test)\n",
        "\n",
        "print('        Perished   |  Survived   ')\n",
        "probabilities"
      ],
      "execution_count": null,
      "outputs": [
        {
          "output_type": "stream",
          "text": [
            "        Perished   |  Survived   \n"
          ],
          "name": "stdout"
        },
        {
          "output_type": "execute_result",
          "data": {
            "text/plain": [
              "array([[0.91898749, 0.08101251],\n",
              "       [0.94037564, 0.05962436],\n",
              "       [0.93083228, 0.06916772],\n",
              "       [0.83268871, 0.16731129],\n",
              "       [0.91715143, 0.08284857],\n",
              "       [0.26417113, 0.73582887],\n",
              "       [0.76219041, 0.23780959],\n",
              "       [0.92078638, 0.07921362],\n",
              "       [0.65196495, 0.34803505],\n",
              "       [0.09625714, 0.90374286],\n",
              "       [0.80368977, 0.19631023],\n",
              "       [0.84225922, 0.15774078],\n",
              "       [0.30902042, 0.69097958],\n",
              "       [0.93373093, 0.06626907],\n",
              "       [0.91527759, 0.08472241],\n",
              "       [0.1276946 , 0.8723054 ],\n",
              "       [0.84225922, 0.15774078],\n",
              "       [0.929244  , 0.070756  ],\n",
              "       [0.929244  , 0.070756  ],\n",
              "       [0.30321911, 0.69678089],\n",
              "       [0.04438344, 0.95561656],\n",
              "       [0.9058425 , 0.0941575 ],\n",
              "       [0.97434446, 0.02565554],\n",
              "       [0.30321911, 0.69678089],\n",
              "       [0.13607666, 0.86392334],\n",
              "       [0.93373093, 0.06626907],\n",
              "       [0.93373093, 0.06626907],\n",
              "       [0.90942339, 0.09057661],\n",
              "       [0.93373093, 0.06626907],\n",
              "       [0.93373093, 0.06626907],\n",
              "       [0.8075126 , 0.1924874 ],\n",
              "       [0.92596595, 0.07403405],\n",
              "       [0.83606203, 0.16393797],\n",
              "       [0.28358309, 0.71641691],\n",
              "       [0.93391024, 0.06608976],\n",
              "       [0.18145601, 0.81854399],\n",
              "       [0.94624496, 0.05375504],\n",
              "       [0.94807732, 0.05192268],\n",
              "       [0.91336537, 0.08663463],\n",
              "       [0.94747319, 0.05252681],\n",
              "       [0.83606203, 0.16393797],\n",
              "       [0.93373093, 0.06626907],\n",
              "       [0.21228157, 0.78771843],\n",
              "       [0.12761858, 0.87238142],\n",
              "       [0.06135628, 0.93864372],\n",
              "       [0.92254869, 0.07745131],\n",
              "       [0.11463621, 0.88536379],\n",
              "       [0.96748181, 0.03251819],\n",
              "       [0.18055124, 0.81944876],\n",
              "       [0.93828919, 0.06171081],\n",
              "       [0.23231659, 0.76768341],\n",
              "       [0.92762208, 0.07237792],\n",
              "       [0.74404173, 0.25595827],\n",
              "       [0.06118939, 0.93881061],\n",
              "       [0.67848982, 0.32151018],\n",
              "       [0.67912244, 0.32087756],\n",
              "       [0.30321911, 0.69678089],\n",
              "       [0.72431593, 0.27568407],\n",
              "       [0.91141418, 0.08858582],\n",
              "       [0.12500013, 0.87499987],\n",
              "       [0.95933974, 0.04066026],\n",
              "       [0.24563237, 0.75436763],\n",
              "       [0.92596595, 0.07403405],\n",
              "       [0.93373093, 0.06626907],\n",
              "       [0.12500013, 0.87499987],\n",
              "       [0.7578628 , 0.2421372 ],\n",
              "       [0.93373093, 0.06626907],\n",
              "       [0.76658667, 0.23341333],\n",
              "       [0.26894346, 0.73105654],\n",
              "       [0.06118939, 0.93881061],\n",
              "       [0.72984774, 0.27015226],\n",
              "       [0.94305491, 0.05694509],\n",
              "       [0.93373093, 0.06626907],\n",
              "       [0.93083228, 0.06916772],\n",
              "       [0.95638509, 0.04361491],\n",
              "       [0.64640562, 0.35359438],\n",
              "       [0.12500013, 0.87499987],\n",
              "       [0.81488459, 0.18511541],\n",
              "       [0.1760806 , 0.8239194 ],\n",
              "       [0.05344361, 0.94655639],\n",
              "       [0.91336537, 0.08663463],\n",
              "       [0.15423025, 0.84576975],\n",
              "       [0.91190572, 0.08809428],\n",
              "       [0.84901008, 0.15098992],\n",
              "       [0.75773751, 0.24226249],\n",
              "       [0.82577606, 0.17422394],\n",
              "       [0.06118939, 0.93881061],\n",
              "       [0.85516257, 0.14483743],\n",
              "       [0.14191877, 0.85808123],\n",
              "       [0.84901008, 0.15098992],\n",
              "       [0.07881652, 0.92118348],\n",
              "       [0.30321911, 0.69678089],\n",
              "       [0.70001833, 0.29998167],\n",
              "       [0.91898749, 0.08101251],\n",
              "       [0.30321911, 0.69678089],\n",
              "       [0.1147055 , 0.8852945 ],\n",
              "       [0.93373093, 0.06626907],\n",
              "       [0.2547908 , 0.7452092 ],\n",
              "       [0.09209297, 0.90790703],\n",
              "       [0.80368977, 0.19631023],\n",
              "       [0.91527759, 0.08472241],\n",
              "       [0.58291651, 0.41708349],\n",
              "       [0.88720523, 0.11279477],\n",
              "       [0.05102701, 0.94897299],\n",
              "       [0.92596595, 0.07403405],\n",
              "       [0.30321911, 0.69678089],\n",
              "       [0.05344361, 0.94655639],\n",
              "       [0.86963483, 0.13036517],\n",
              "       [0.0805566 , 0.9194434 ],\n",
              "       [0.04650082, 0.95349918],\n",
              "       [0.10058875, 0.89941125],\n",
              "       [0.24113724, 0.75886276],\n",
              "       [0.92078638, 0.07921362],\n",
              "       [0.92078638, 0.07921362],\n",
              "       [0.91715143, 0.08284857],\n",
              "       [0.06118939, 0.93881061],\n",
              "       [0.87966629, 0.12033371],\n",
              "       [0.89717783, 0.10282217],\n",
              "       [0.93373093, 0.06626907],\n",
              "       [0.84264433, 0.15735567],\n",
              "       [0.93686052, 0.06313948],\n",
              "       [0.96341489, 0.03658511],\n",
              "       [0.94867487, 0.05132513],\n",
              "       [0.77520848, 0.22479152],\n",
              "       [0.66295916, 0.33704084],\n",
              "       [0.27376992, 0.72623008],\n",
              "       [0.9323875 , 0.0676125 ],\n",
              "       [0.18419108, 0.81580892],\n",
              "       [0.33567039, 0.66432961],\n",
              "       [0.93373093, 0.06626907],\n",
              "       [0.29360579, 0.70639421],\n",
              "       [0.30321911, 0.69678089],\n",
              "       [0.92596595, 0.07403405],\n",
              "       [0.91761402, 0.08238598],\n",
              "       [0.70511927, 0.29488073],\n",
              "       [0.23669857, 0.76330143],\n",
              "       [0.67848982, 0.32151018],\n",
              "       [0.30321911, 0.69678089],\n",
              "       [0.75773751, 0.24226249],\n",
              "       [0.28856857, 0.71143143],\n",
              "       [0.91141418, 0.08858582],\n",
              "       [0.94747319, 0.05252681],\n",
              "       [0.95535543, 0.04464457],\n",
              "       [0.91898749, 0.08101251],\n",
              "       [0.72353534, 0.27646466],\n",
              "       [0.86110538, 0.13889462],\n",
              "       [0.79980983, 0.20019017],\n",
              "       [0.94624496, 0.05375504],\n",
              "       [0.87764159, 0.12235841],\n",
              "       [0.69486734, 0.30513266],\n",
              "       [0.77092608, 0.22907392],\n",
              "       [0.30321911, 0.69678089],\n",
              "       [0.82577606, 0.17422394],\n",
              "       [0.76219041, 0.23780959],\n",
              "       [0.91527759, 0.08472241],\n",
              "       [0.93373093, 0.06626907],\n",
              "       [0.94747319, 0.05252681],\n",
              "       [0.95100064, 0.04899936],\n",
              "       [0.11224985, 0.88775015],\n",
              "       [0.93373093, 0.06626907],\n",
              "       [0.7578628 , 0.2421372 ],\n",
              "       [0.67848982, 0.32151018],\n",
              "       [0.92762208, 0.07237792],\n",
              "       [0.79187828, 0.20812172],\n",
              "       [0.90159509, 0.09840491],\n",
              "       [0.94498968, 0.05501032],\n",
              "       [0.30321911, 0.69678089],\n",
              "       [0.11224985, 0.88775015],\n",
              "       [0.83606203, 0.16393797],\n",
              "       [0.80368977, 0.19631023],\n",
              "       [0.18145601, 0.81854399],\n",
              "       [0.93373093, 0.06626907],\n",
              "       [0.93373093, 0.06626907],\n",
              "       [0.66839175, 0.33160825],\n",
              "       [0.75322824, 0.24677176],\n",
              "       [0.85815995, 0.14184005],\n",
              "       [0.84225922, 0.15774078],\n",
              "       [0.11968534, 0.88031466],\n",
              "       [0.68441851, 0.31558149],\n",
              "       [0.93373093, 0.06626907],\n",
              "       [0.12761858, 0.87238142],\n",
              "       [0.30383249, 0.69616751],\n",
              "       [0.93373093, 0.06626907],\n",
              "       [0.24225587, 0.75774413],\n",
              "       [0.71016939, 0.28983061],\n",
              "       [0.64640562, 0.35359438],\n",
              "       [0.13036108, 0.86963892],\n",
              "       [0.79970052, 0.20029948],\n",
              "       [0.71516795, 0.28483205],\n",
              "       [0.11720779, 0.88279221],\n",
              "       [0.30321911, 0.69678089],\n",
              "       [0.91715143, 0.08284857],\n",
              "       [0.08615005, 0.91384995],\n",
              "       [0.84264433, 0.15735567],\n",
              "       [0.83259359, 0.16740641],\n",
              "       [0.85202673, 0.14797327],\n",
              "       [0.93968761, 0.06031239],\n",
              "       [0.09625714, 0.90374286],\n",
              "       [0.7958727 , 0.2041273 ],\n",
              "       [0.13897197, 0.86102803],\n",
              "       [0.12500013, 0.87499987],\n",
              "       [0.10747609, 0.89252391],\n",
              "       [0.93083228, 0.06916772],\n",
              "       [0.88285909, 0.11714091],\n",
              "       [0.11463621, 0.88536379],\n",
              "       [0.26417113, 0.73582887],\n",
              "       [0.91336537, 0.08663463],\n",
              "       [0.92596595, 0.07403405],\n",
              "       [0.94370683, 0.05629317],\n",
              "       [0.79970052, 0.20029948],\n",
              "       [0.92762208, 0.07237792],\n",
              "       [0.93373093, 0.06626907],\n",
              "       [0.93373093, 0.06626907],\n",
              "       [0.94105633, 0.05894367],\n",
              "       [0.05727173, 0.94272827],\n",
              "       [0.80740647, 0.19259353],\n",
              "       [0.83938044, 0.16061956],\n",
              "       [0.93373093, 0.06626907],\n",
              "       [0.92427501, 0.07572499],\n",
              "       [0.31954116, 0.68045884],\n",
              "       [0.93391024, 0.06608976],\n",
              "       [0.87373006, 0.12626994],\n",
              "       [0.93373093, 0.06626907],\n",
              "       [0.64080642, 0.35919358],\n",
              "       [0.34113555, 0.65886445],\n",
              "       [0.06877349, 0.93122651],\n",
              "       [0.26417113, 0.73582887],\n",
              "       [0.84225922, 0.15774078],\n",
              "       [0.68441851, 0.31558149],\n",
              "       [0.91336537, 0.08663463],\n",
              "       [0.06135628, 0.93864372],\n",
              "       [0.92427501, 0.07572499],\n",
              "       [0.79176576, 0.20823424],\n",
              "       [0.89661343, 0.10338657],\n",
              "       [0.30321911, 0.69678089],\n",
              "       [0.30321911, 0.69678089],\n",
              "       [0.93373093, 0.06626907],\n",
              "       [0.93373093, 0.06626907],\n",
              "       [0.81853864, 0.18146136],\n",
              "       [0.91715143, 0.08284857],\n",
              "       [0.93373093, 0.06626907],\n",
              "       [0.06571183, 0.93428817],\n",
              "       [0.93083228, 0.06916772],\n",
              "       [0.93373093, 0.06626907],\n",
              "       [0.29869401, 0.70130599],\n",
              "       [0.84225922, 0.15774078],\n",
              "       [0.87394535, 0.12605465],\n",
              "       [0.93373093, 0.06626907],\n",
              "       [0.87237741, 0.12762259],\n",
              "       [0.26417113, 0.73582887],\n",
              "       [0.14156579, 0.85843421],\n",
              "       [0.92762208, 0.07237792],\n",
              "       [0.10281884, 0.89718116],\n",
              "       [0.93373093, 0.06626907],\n",
              "       [0.70511927, 0.29488073],\n",
              "       [0.76219041, 0.23780959],\n",
              "       [0.83938044, 0.16061956],\n",
              "       [0.26894346, 0.73105654],\n",
              "       [0.89258591, 0.10741409],\n",
              "       [0.73936522, 0.26063478],\n",
              "       [0.35778167, 0.64221833],\n",
              "       [0.23231659, 0.76768341]])"
            ]
          },
          "metadata": {
            "tags": []
          },
          "execution_count": 53
        }
      ]
    },
    {
      "cell_type": "code",
      "metadata": {
        "colab": {
          "base_uri": "https://localhost:8080/",
          "height": 374
        },
        "id": "cZBAbGDVLyIm",
        "outputId": "be15774e-6f4a-4aaf-c4c1-ba968e2d925e"
      },
      "source": [
        "# confusion matrix\n",
        "\n",
        "from sklearn.metrics import confusion_matrix\n",
        "\n",
        "cm = confusion_matrix(labels_test, prediction)\n",
        "\n",
        "f, ax = plt.subplots(figsize=(6,6))\n",
        "\n",
        "ax.imshow(cm)\n",
        "ax.grid(False)\n",
        "\n",
        "ax.set_xticks([0, 1])\n",
        "ax.set_xticklabels(['Predicted 0s', 'Predicted 1s'])\n",
        "ax.set_yticks([0, 1])\n",
        "ax.set_yticklabels(['Actual 0s', 'Actual 1s'])\n",
        "ax.set_ylim(1.5, -0.5)\n",
        "\n",
        "for i in range(2):\n",
        "  for e in range(2):\n",
        "    ax.text(e, i, cm[i, e], ha='center', va='center', color='red')\n",
        "\n",
        "plt.title('Confusion Matrix ')\n",
        "plt.show()\n"
      ],
      "execution_count": null,
      "outputs": [
        {
          "output_type": "display_data",
          "data": {
            "image/png": "[encoded data removed]",
            "text/plain": [
              "<Figure size 432x432 with 1 Axes>"
            ]
          },
          "metadata": {
            "tags": [],
            "needs_background": "light"
          }
        }
      ]
    },
    {
      "cell_type": "markdown",
      "metadata": {
        "id": "tO7IOLC9YLxd"
      },
      "source": [
        "- True Positives: 74\n",
        "  - Number of times the model predicted the passenger survived and he survived\n",
        "- True Negatives: 155\n",
        "  - Number of times the model predicted the passenger perished and it perished\n",
        "- False Positives: 12\n",
        "  - Number of times the model predicted the passenger survived and it perished\n",
        "- False Negatives: 21\n",
        "  - Number of times the model predicted the passenger perished and it survived"
      ]
    },
    {
      "cell_type": "code",
      "metadata": {
        "colab": {
          "base_uri": "https://localhost:8080/"
        },
        "id": "96yH9DbeY7N8",
        "outputId": "b0137f37-78ac-4ad8-98d6-793af988deef"
      },
      "source": [
        "# Recall >> % of relevant items the classifier found\n",
        "# true positive / (true positive + false negative)\n",
        "\n",
        "recall = 74 / (74+21)\n",
        "print(f'Recall: {recall}')\n",
        "\n",
        "# Precision >> # of times the model predicted the passenger survived\n",
        "# true positive / (true positive + false positive)\n",
        "\n",
        "precision = 74 / (74 + 12)\n",
        "print(f'Precision: {precision}')\n",
        "\n"
      ],
      "execution_count": 86,
      "outputs": [
        {
          "output_type": "stream",
          "text": [
            "Recall: 0.7789473684210526\n",
            "Precision: 0.8604651162790697\n"
          ],
          "name": "stdout"
        }
      ]
    },
    {
      "cell_type": "code",
      "metadata": {
        "colab": {
          "base_uri": "https://localhost:8080/"
        },
        "id": "5ggqko4haVe0",
        "outputId": "100b9828-6cbf-4add-c380-fa49ea32dae7"
      },
      "source": [
        "# F1 Score >> describe the effectiveness of the classifier\n",
        "# harmonic mean of precision and recall >> 2 * (precision * recall) / (precision + recall)\n",
        "\n",
        "f1 = 2*(precision * recall) / (precision + recall)\n",
        "print(f'F1: {f1}')"
      ],
      "execution_count": 88,
      "outputs": [
        {
          "output_type": "stream",
          "text": [
            "F1: 0.8176795580110496\n"
          ],
          "name": "stdout"
        }
      ]
    }
  ]
}